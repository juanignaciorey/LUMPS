{
  "cells": [
    {
      "cell_type": "markdown",
      "metadata": {},
      "source": [
        "# 🚀 LUMPS - Worker Distribuido para Google Colab\n",
        "\n",
        "Este notebook permite ejecutar un worker distribuido para generar el dataset de la Fase 0 de LUMPS.\n",
        "\n",
        "## 📋 Instrucciones\n",
        "\n",
        "1. **Ejecuta las celdas en orden**\n",
        "2. **Configura tu ruta de Google Drive** en la celda de configuración\n",
        "3. **El worker trabajará automáticamente** hasta que se desconecte Colab\n",
        "4. **Puedes pausar/reanudar** usando los botones de control\n",
        "\n",
        "## ⚠️ Importante\n",
        "- Cada usuario debe hacer **\"Archivo > Guardar una copia en Drive\"** antes de ejecutar\n",
        "- El worker trabajará en **loop continuo** hasta desconexión\n",
        "- Los resultados se guardan automáticamente en Google Drive compartido\n"
      ]
    },
    {
      "cell_type": "markdown",
      "metadata": {},
      "source": [
        "## 🔧 Setup Inicial\n"
      ]
    },
    {
      "cell_type": "code",
      "execution_count": null,
      "metadata": {},
      "outputs": [],
      "source": [
        "# Montar Google Drive\n",
        "from google.colab import drive\n",
        "import os\n",
        "\n",
        "print(\"🔗 Montando Google Drive...\")\n",
        "drive.mount('/content/drive')\n",
        "print(\"✅ Google Drive montado exitosamente\")\n"
      ]
    },
    {
      "cell_type": "code",
      "execution_count": null,
      "metadata": {},
      "outputs": [],
      "source": [
        "# Clonar repositorio desde GitHub automáticamente\n",
        "import subprocess\n",
        "import sys\n",
        "from pathlib import Path\n",
        "\n",
        "print(\"📥 Clonando repositorio LUMPS...\")\n",
        "\n",
        "# Cambiar al directorio de trabajo\n",
        "%cd /content\n",
        "\n",
        "# URL del repositorio (actualizada automáticamente)\n",
        "repo_url = \"https://github.com/juanignaciorey/LUMPS.git\"\n",
        "\n",
        "# Verificar si ya existe el directorio\n",
        "if Path(\"LUMPS\").exists():\n",
        "    print(\"📁 Repositorio ya existe, actualizando...\")\n",
        "    %cd LUMPS\n",
        "    !git pull origin master\n",
        "else:\n",
        "    print(\"📥 Clonando repositorio...\")\n",
        "    !git clone $repo_url\n",
        "    %cd LUMPS\n",
        "\n",
        "print(\"✅ Repositorio listo\")\n",
        "print(f\"📁 Directorio actual: {os.getcwd()}\")\n"
      ]
    },
    {
      "cell_type": "code",
      "execution_count": null,
      "metadata": {},
      "outputs": [],
      "source": [
        "# Instalar dependencias automáticamente\n",
        "print(\"📦 Instalando dependencias...\")\n",
        "\n",
        "try:\n",
        "    # Instalar requirements\n",
        "    !pip install -r requirements.txt\n",
        "    \n",
        "    # Instalar dependencias adicionales para Colab\n",
        "    !pip install tqdm\n",
        "    \n",
        "    print(\"✅ Dependencias instaladas exitosamente\")\n",
        "except Exception as e:\n",
        "    print(f\"⚠️ Error instalando dependencias: {e}\")\n",
        "    print(\"🔄 Intentando instalar dependencias básicas...\")\n",
        "    !pip install torch numpy tqdm\n",
        "    print(\"✅ Dependencias básicas instaladas\")\n"
      ]
    },
    {
      "cell_type": "markdown",
      "metadata": {},
      "source": [
        "## ⚙️ Configuración\n"
      ]
    },
    {
      "cell_type": "code",
      "execution_count": null,
      "metadata": {},
      "outputs": [],
      "source": [
        "# Crear carpeta compartida automáticamente si no existe\n",
        "import os\n",
        "from pathlib import Path\n",
        "\n",
        "print(\"🔍 Verificando carpeta compartida...\")\n",
        "\n",
        "# Verificar si la carpeta base existe\n",
        "if not Path(DRIVE_BASE_PATH).exists():\n",
        "    print(\"📁 Creando carpeta compartida automáticamente...\")\n",
        "    try:\n",
        "        Path(DRIVE_BASE_PATH).mkdir(parents=True, exist_ok=True)\n",
        "        print(f\"✅ Carpeta creada: {DRIVE_BASE_PATH}\")\n",
        "    except Exception as e:\n",
        "        print(f\"❌ Error creando carpeta: {e}\")\n",
        "        print(\"💡 Verifica que tienes permisos de escritura en Drive\")\n",
        "else:\n",
        "    print(f\"✅ Carpeta ya existe: {DRIVE_BASE_PATH}\")\n",
        "\n",
        "print(\"🎯 Verificación de carpeta completada\")\n"
      ]
    },
    {
      "cell_type": "markdown",
      "metadata": {},
      "source": [
        "## 🔧 Setup Automático\n",
        "\n",
        "El notebook configurará automáticamente todo lo necesario:\n",
        "- Creará la carpeta compartida si no existe\n",
        "- Generará el manifiesto de batches automáticamente\n",
        "- Configurará el worker para ejecutar\n"
      ]
    },
    {
      "cell_type": "code",
      "execution_count": null,
      "metadata": {},
      "outputs": [],
      "source": [
        "# Setup automático - Crear manifiesto si no existe\n",
        "import os\n",
        "from pathlib import Path\n",
        "\n",
        "print(\"🔍 Verificando setup inicial...\")\n",
        "\n",
        "# Verificar si ya existe el manifiesto\n",
        "manifest_path = Path(DRIVE_BASE_PATH) / \"manifests\" / \"batch_manifest.json\"\n",
        "\n",
        "if manifest_path.exists():\n",
        "    print(\"✅ Manifiesto ya existe, continuando...\")\n",
        "    print(f\"📁 Ubicación: {manifest_path}\")\n",
        "else:\n",
        "    print(\"📋 Creando manifiesto de batches automáticamente...\")\n",
        "    print(\"⚠️ Esto puede tomar unos minutos para 500,000 tareas\")\n",
        "\n",
        "    try:\n",
        "        # Crear manifiesto\n",
        "        !python -m src.distributed.batch_generator \\\n",
        "            --drive-path $LUMPS_DRIVE_PATH \\\n",
        "            --create-manifest \\\n",
        "            --batch-size 50\n",
        "\n",
        "        print(\"✅ Manifiesto creado exitosamente\")\n",
        "    except Exception as e:\n",
        "        print(f\"❌ Error creando manifiesto: {e}\")\n",
        "        print(\"💡 Asegúrate de que la carpeta LUMPS_Distributed existe en Drive\")\n",
        "\n",
        "print(\"🎯 Setup inicial completado\")\n"
      ]
    },
    {
      "cell_type": "code",
      "execution_count": null,
      "metadata": {},
      "outputs": [],
      "source": [
        "# Configurar paths y variables automáticamente\n",
        "import os\n",
        "import socket\n",
        "import time\n",
        "from pathlib import Path\n",
        "\n",
        "# Ruta automática de la carpeta compartida\n",
        "DRIVE_BASE_PATH = \"/content/drive/MyDrive/LUMPS_Distributed\"\n",
        "\n",
        "# Generar ID único para este worker\n",
        "WORKER_ID = f\"colab_{socket.gethostname()}_{os.getpid()}_{int(time.time())}\"\n",
        "\n",
        "# Configurar variables de entorno\n",
        "os.environ['LUMPS_DRIVE_PATH'] = DRIVE_BASE_PATH\n",
        "os.environ['WORKER_ID'] = WORKER_ID\n",
        "\n",
        "print(f\"🔧 Configuración automática:\")\n",
        "print(f\"   Worker ID: {WORKER_ID}\")\n",
        "print(f\"   Drive Path: {DRIVE_BASE_PATH}\")\n",
        "print(f\"   Hostname: {socket.gethostname()}\")\n",
        "print(f\"   PID: {os.getpid()}\")\n",
        "\n",
        "# Verificar que la ruta existe (debería existir por las celdas anteriores)\n",
        "if not Path(DRIVE_BASE_PATH).exists():\n",
        "    print(f\"⚠️ La ruta {DRIVE_BASE_PATH} no existe, creándola...\")\n",
        "    Path(DRIVE_BASE_PATH).mkdir(parents=True, exist_ok=True)\n",
        "    print(f\"✅ Ruta creada: {DRIVE_BASE_PATH}\")\n",
        "else:\n",
        "    print(f\"✅ Ruta verificada: {DRIVE_BASE_PATH}\")\n",
        "\n",
        "print(\"🎯 Configuración completada\")\n"
      ]
    },
    {
      "cell_type": "markdown",
      "metadata": {},
      "source": [
        "## 🖥️ Configuración de GPU\n"
      ]
    },
    {
      "cell_type": "code",
      "execution_count": null,
      "metadata": {},
      "outputs": [],
      "source": [
        "# Verificar GPU disponible\n",
        "import torch\n",
        "\n",
        "print(\"🖥️ Verificando GPU...\")\n",
        "print(f\"   CUDA disponible: {torch.cuda.is_available()}\")\n",
        "\n",
        "if torch.cuda.is_available():\n",
        "    print(f\"   GPU: {torch.cuda.get_device_name(0)}\")\n",
        "    print(f\"   Memoria GPU: {torch.cuda.get_device_properties(0).total_memory / 1e9:.1f} GB\")\n",
        "    print(\"✅ GPU configurada y lista\")\n",
        "else:\n",
        "    print(\"⚠️ No hay GPU disponible, usando CPU\")\n",
        "\n",
        "print(f\"   PyTorch versión: {torch.__version__}\")\n"
      ]
    },
    {
      "cell_type": "markdown",
      "metadata": {},
      "source": [
        "## 🚀 Ejecutar Worker\n"
      ]
    },
    {
      "cell_type": "code",
      "execution_count": null,
      "metadata": {},
      "outputs": [],
      "source": [
        "# Ejecutar worker distribuido automáticamente\n",
        "print(\"🚀 Iniciando worker distribuido...\")\n",
        "print(\"⚠️ El worker trabajará en loop continuo hasta desconexión\")\n",
        "print(\"🛑 Presiona el botón de interrumpir para detener\")\n",
        "print(\"\\n\" + \"=\"*80)\n",
        "\n",
        "try:\n",
        "    # Ejecutar worker con TQDM para progreso visual\n",
        "    !python generate_dataset_distributed.py \\\n",
        "        --drive-path $LUMPS_DRIVE_PATH \\\n",
        "        --worker-id $WORKER_ID \\\n",
        "        --verbose\n",
        "except Exception as e:\n",
        "    print(f\"❌ Error ejecutando worker: {e}\")\n",
        "    print(\"💡 Verifica que el manifiesto existe y tienes permisos de escritura\")\n",
        "    print(\"🔄 Intentando ejecutar con configuración básica...\")\n",
        "    !python generate_dataset_distributed.py \\\n",
        "        --drive-path $LUMPS_DRIVE_PATH \\\n",
        "        --worker-id $WORKER_ID\n"
      ]
    }
  ],
  "metadata": {
    "language_info": {
      "name": "python"
    }
  },
  "nbformat": 4,
  "nbformat_minor": 2
}
