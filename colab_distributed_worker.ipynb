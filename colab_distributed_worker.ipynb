{
  "cells": [
    {
      "cell_type": "markdown",
      "metadata": {},
      "source": [
        "# 🚀 LUMPS - Worker Distribuido para Google Colab\n",
        "\n",
        "Este notebook permite ejecutar un worker distribuido para generar el dataset de la Fase 0 de LUMPS.\n",
        "\n",
        "## 📋 Instrucciones\n",
        "\n",
        "1. **Ejecuta las celdas en orden**\n",
        "2. **Configura tu ruta de Google Drive** en la celda de configuración\n",
        "3. **El worker trabajará automáticamente** hasta que se desconecte Colab\n",
        "4. **Puedes pausar/reanudar** usando los botones de control\n",
        "\n",
        "## ⚠️ Importante\n",
        "- Cada usuario debe hacer **\"Archivo > Guardar una copia en Drive\"** antes de ejecutar\n",
        "- El worker trabajará en **loop continuo** hasta desconexión\n",
        "- Los resultados se guardan automáticamente en Google Drive compartido\n"
      ]
    },
    {
      "cell_type": "markdown",
      "metadata": {},
      "source": [
        "## 🔧 Setup Inicial\n"
      ]
    },
    {
      "cell_type": "code",
      "execution_count": null,
      "metadata": {},
      "outputs": [],
      "source": [
        "# Montar Google Drive\n",
        "from google.colab import drive\n",
        "import os\n",
        "\n",
        "print(\"🔗 Montando Google Drive...\")\n",
        "drive.mount('/content/drive')\n",
        "print(\"✅ Google Drive montado exitosamente\")\n"
      ]
    },
    {
      "cell_type": "code",
      "execution_count": null,
      "metadata": {},
      "outputs": [],
      "source": [
        "# Clonar repositorio desde GitHub\n",
        "import subprocess\n",
        "import sys\n",
        "from pathlib import Path\n",
        "\n",
        "print(\"📥 Clonando repositorio LUMPS...\")\n",
        "\n",
        "# Cambiar al directorio de trabajo\n",
        "%cd /content\n",
        "\n",
        "# Clonar repositorio (reemplaza con tu URL de GitHub)\n",
        "repo_url = \"https://github.com/juanignaciorey/LUMPS.git\"  # ⚠️ CAMBIA ESTA URL\n",
        "!git clone $repo_url\n",
        "\n",
        "# Cambiar al directorio del proyecto\n",
        "%cd LUMPS\n",
        "\n",
        "print(\"✅ Repositorio clonado exitosamente\")\n",
        "print(f\"📁 Directorio actual: {os.getcwd()}\")\n"
      ]
    },
    {
      "cell_type": "code",
      "execution_count": null,
      "metadata": {},
      "outputs": [],
      "source": [
        "# Instalar dependencias\n",
        "print(\"📦 Instalando dependencias...\")\n",
        "\n",
        "# Instalar requirements\n",
        "!pip install -r requirements.txt\n",
        "\n",
        "# Instalar dependencias adicionales para Colab\n",
        "!pip install tqdm\n",
        "\n",
        "print(\"✅ Dependencias instaladas exitosamente\")\n"
      ]
    },
    {
      "cell_type": "markdown",
      "metadata": {},
      "source": [
        "## ⚙️ Configuración\n"
      ]
    },
    {
      "cell_type": "code",
      "execution_count": null,
      "metadata": {},
      "outputs": [],
      "source": [
        "# Configurar paths y variables\n",
        "import os\n",
        "import socket\n",
        "import time\n",
        "from pathlib import Path\n",
        "\n",
        "# ⚠️ CONFIGURAR ESTA RUTA - debe ser la carpeta compartida en Drive\n",
        "DRIVE_BASE_PATH = \"/content/drive/MyDrive/LUMPS_Distributed\"\n",
        "\n",
        "# Generar ID único para este worker\n",
        "WORKER_ID = f\"colab_{socket.gethostname()}_{os.getpid()}_{int(time.time())}\"\n",
        "\n",
        "# Configurar variables de entorno\n",
        "os.environ['LUMPS_DRIVE_PATH'] = DRIVE_BASE_PATH\n",
        "os.environ['WORKER_ID'] = WORKER_ID\n",
        "\n",
        "print(f\"🔧 Configuración:\")\n",
        "print(f\"   Worker ID: {WORKER_ID}\")\n",
        "print(f\"   Drive Path: {DRIVE_BASE_PATH}\")\n",
        "print(f\"   Hostname: {socket.gethostname()}\")\n",
        "print(f\"   PID: {os.getpid()}\")\n",
        "\n",
        "# Verificar que la ruta existe\n",
        "if not Path(DRIVE_BASE_PATH).exists():\n",
        "    print(f\"❌ Error: La ruta {DRIVE_BASE_PATH} no existe\")\n",
        "    print(\"💡 Asegúrate de que la carpeta compartida esté en tu Drive\")\n",
        "else:\n",
        "    print(f\"✅ Ruta verificada: {DRIVE_BASE_PATH}\")\n"
      ]
    },
    {
      "cell_type": "markdown",
      "metadata": {},
      "source": [
        "## 🖥️ Configuración de GPU\n"
      ]
    },
    {
      "cell_type": "code",
      "execution_count": null,
      "metadata": {},
      "outputs": [],
      "source": [
        "# Verificar GPU disponible\n",
        "import torch\n",
        "\n",
        "print(\"🖥️ Verificando GPU...\")\n",
        "print(f\"   CUDA disponible: {torch.cuda.is_available()}\")\n",
        "\n",
        "if torch.cuda.is_available():\n",
        "    print(f\"   GPU: {torch.cuda.get_device_name(0)}\")\n",
        "    print(f\"   Memoria GPU: {torch.cuda.get_device_properties(0).total_memory / 1e9:.1f} GB\")\n",
        "    print(\"✅ GPU configurada y lista\")\n",
        "else:\n",
        "    print(\"⚠️ No hay GPU disponible, usando CPU\")\n",
        "\n",
        "print(f\"   PyTorch versión: {torch.__version__}\")\n"
      ]
    },
    {
      "cell_type": "markdown",
      "metadata": {},
      "source": [
        "## 🚀 Ejecutar Worker\n"
      ]
    },
    {
      "cell_type": "code",
      "execution_count": null,
      "metadata": {},
      "outputs": [],
      "source": [
        "# Ejecutar worker distribuido\n",
        "print(\"🚀 Iniciando worker distribuido...\")\n",
        "print(\"⚠️ El worker trabajará en loop continuo hasta desconexión\")\n",
        "print(\"🛑 Presiona el botón de interrumpir para detener\")\n",
        "print(\"\\n\" + \"=\"*80)\n",
        "\n",
        "# Ejecutar worker con TQDM para progreso visual\n",
        "!python generate_dataset_distributed.py \\\n",
        "    --drive-path $LUMPS_DRIVE_PATH \\\n",
        "    --worker-id $WORKER_ID \\\n",
        "    --verbose\n"
      ]
    }
  ],
  "metadata": {
    "language_info": {
      "name": "python"
    }
  },
  "nbformat": 4,
  "nbformat_minor": 2
}
